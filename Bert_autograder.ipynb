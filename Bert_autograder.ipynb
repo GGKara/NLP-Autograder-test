{
  "nbformat": 4,
  "nbformat_minor": 0,
  "metadata": {
    "colab": {
      "name": "Bert_autograder.ipynb",
      "provenance": [],
      "collapsed_sections": [],
      "authorship_tag": "ABX9TyNR8r+Zwl3k4lAd13kysQ1G"
    },
    "kernelspec": {
      "name": "python3",
      "display_name": "Python 3"
    },
    "language_info": {
      "name": "python"
    },
    "widgets": {
      "application/vnd.jupyter.widget-state+json": {
        "360176d0e85d4c519c4f5c9a070c4a1c": {
          "model_module": "@jupyter-widgets/controls",
          "model_name": "HBoxModel",
          "model_module_version": "1.5.0",
          "state": {
            "_dom_classes": [],
            "_model_module": "@jupyter-widgets/controls",
            "_model_module_version": "1.5.0",
            "_model_name": "HBoxModel",
            "_view_count": null,
            "_view_module": "@jupyter-widgets/controls",
            "_view_module_version": "1.5.0",
            "_view_name": "HBoxView",
            "box_style": "",
            "children": [
              "IPY_MODEL_c1522a2868ae4f8a9e3ea678a9efc05b",
              "IPY_MODEL_d99c639ec6ad4dbe82a2df89a0b26784",
              "IPY_MODEL_55102d24a8284ab5874ca98533a69219"
            ],
            "layout": "IPY_MODEL_438b60252a0045b2a61a67ec96e22664"
          }
        },
        "c1522a2868ae4f8a9e3ea678a9efc05b": {
          "model_module": "@jupyter-widgets/controls",
          "model_name": "HTMLModel",
          "model_module_version": "1.5.0",
          "state": {
            "_dom_classes": [],
            "_model_module": "@jupyter-widgets/controls",
            "_model_module_version": "1.5.0",
            "_model_name": "HTMLModel",
            "_view_count": null,
            "_view_module": "@jupyter-widgets/controls",
            "_view_module_version": "1.5.0",
            "_view_name": "HTMLView",
            "description": "",
            "description_tooltip": null,
            "layout": "IPY_MODEL_cd1460c091094188a626cbe89488f56e",
            "placeholder": "​",
            "style": "IPY_MODEL_916e66723e8e4ed2b1e0d513c6ff7a64",
            "value": "Downloading: 100%"
          }
        },
        "d99c639ec6ad4dbe82a2df89a0b26784": {
          "model_module": "@jupyter-widgets/controls",
          "model_name": "FloatProgressModel",
          "model_module_version": "1.5.0",
          "state": {
            "_dom_classes": [],
            "_model_module": "@jupyter-widgets/controls",
            "_model_module_version": "1.5.0",
            "_model_name": "FloatProgressModel",
            "_view_count": null,
            "_view_module": "@jupyter-widgets/controls",
            "_view_module_version": "1.5.0",
            "_view_name": "ProgressView",
            "bar_style": "success",
            "description": "",
            "description_tooltip": null,
            "layout": "IPY_MODEL_f98e888ad1b0483480f33324267e511e",
            "max": 231508,
            "min": 0,
            "orientation": "horizontal",
            "style": "IPY_MODEL_f062952503614d8fbae6da2529fcf76a",
            "value": 231508
          }
        },
        "55102d24a8284ab5874ca98533a69219": {
          "model_module": "@jupyter-widgets/controls",
          "model_name": "HTMLModel",
          "model_module_version": "1.5.0",
          "state": {
            "_dom_classes": [],
            "_model_module": "@jupyter-widgets/controls",
            "_model_module_version": "1.5.0",
            "_model_name": "HTMLModel",
            "_view_count": null,
            "_view_module": "@jupyter-widgets/controls",
            "_view_module_version": "1.5.0",
            "_view_name": "HTMLView",
            "description": "",
            "description_tooltip": null,
            "layout": "IPY_MODEL_fc5dc59a9948412db9468ca77d5eadca",
            "placeholder": "​",
            "style": "IPY_MODEL_7a2eeb5433e84153a97259bdf3504d10",
            "value": " 226k/226k [00:00&lt;00:00, 3.21MB/s]"
          }
        },
        "438b60252a0045b2a61a67ec96e22664": {
          "model_module": "@jupyter-widgets/base",
          "model_name": "LayoutModel",
          "model_module_version": "1.2.0",
          "state": {
            "_model_module": "@jupyter-widgets/base",
            "_model_module_version": "1.2.0",
            "_model_name": "LayoutModel",
            "_view_count": null,
            "_view_module": "@jupyter-widgets/base",
            "_view_module_version": "1.2.0",
            "_view_name": "LayoutView",
            "align_content": null,
            "align_items": null,
            "align_self": null,
            "border": null,
            "bottom": null,
            "display": null,
            "flex": null,
            "flex_flow": null,
            "grid_area": null,
            "grid_auto_columns": null,
            "grid_auto_flow": null,
            "grid_auto_rows": null,
            "grid_column": null,
            "grid_gap": null,
            "grid_row": null,
            "grid_template_areas": null,
            "grid_template_columns": null,
            "grid_template_rows": null,
            "height": null,
            "justify_content": null,
            "justify_items": null,
            "left": null,
            "margin": null,
            "max_height": null,
            "max_width": null,
            "min_height": null,
            "min_width": null,
            "object_fit": null,
            "object_position": null,
            "order": null,
            "overflow": null,
            "overflow_x": null,
            "overflow_y": null,
            "padding": null,
            "right": null,
            "top": null,
            "visibility": null,
            "width": null
          }
        },
        "cd1460c091094188a626cbe89488f56e": {
          "model_module": "@jupyter-widgets/base",
          "model_name": "LayoutModel",
          "model_module_version": "1.2.0",
          "state": {
            "_model_module": "@jupyter-widgets/base",
            "_model_module_version": "1.2.0",
            "_model_name": "LayoutModel",
            "_view_count": null,
            "_view_module": "@jupyter-widgets/base",
            "_view_module_version": "1.2.0",
            "_view_name": "LayoutView",
            "align_content": null,
            "align_items": null,
            "align_self": null,
            "border": null,
            "bottom": null,
            "display": null,
            "flex": null,
            "flex_flow": null,
            "grid_area": null,
            "grid_auto_columns": null,
            "grid_auto_flow": null,
            "grid_auto_rows": null,
            "grid_column": null,
            "grid_gap": null,
            "grid_row": null,
            "grid_template_areas": null,
            "grid_template_columns": null,
            "grid_template_rows": null,
            "height": null,
            "justify_content": null,
            "justify_items": null,
            "left": null,
            "margin": null,
            "max_height": null,
            "max_width": null,
            "min_height": null,
            "min_width": null,
            "object_fit": null,
            "object_position": null,
            "order": null,
            "overflow": null,
            "overflow_x": null,
            "overflow_y": null,
            "padding": null,
            "right": null,
            "top": null,
            "visibility": null,
            "width": null
          }
        },
        "916e66723e8e4ed2b1e0d513c6ff7a64": {
          "model_module": "@jupyter-widgets/controls",
          "model_name": "DescriptionStyleModel",
          "model_module_version": "1.5.0",
          "state": {
            "_model_module": "@jupyter-widgets/controls",
            "_model_module_version": "1.5.0",
            "_model_name": "DescriptionStyleModel",
            "_view_count": null,
            "_view_module": "@jupyter-widgets/base",
            "_view_module_version": "1.2.0",
            "_view_name": "StyleView",
            "description_width": ""
          }
        },
        "f98e888ad1b0483480f33324267e511e": {
          "model_module": "@jupyter-widgets/base",
          "model_name": "LayoutModel",
          "model_module_version": "1.2.0",
          "state": {
            "_model_module": "@jupyter-widgets/base",
            "_model_module_version": "1.2.0",
            "_model_name": "LayoutModel",
            "_view_count": null,
            "_view_module": "@jupyter-widgets/base",
            "_view_module_version": "1.2.0",
            "_view_name": "LayoutView",
            "align_content": null,
            "align_items": null,
            "align_self": null,
            "border": null,
            "bottom": null,
            "display": null,
            "flex": null,
            "flex_flow": null,
            "grid_area": null,
            "grid_auto_columns": null,
            "grid_auto_flow": null,
            "grid_auto_rows": null,
            "grid_column": null,
            "grid_gap": null,
            "grid_row": null,
            "grid_template_areas": null,
            "grid_template_columns": null,
            "grid_template_rows": null,
            "height": null,
            "justify_content": null,
            "justify_items": null,
            "left": null,
            "margin": null,
            "max_height": null,
            "max_width": null,
            "min_height": null,
            "min_width": null,
            "object_fit": null,
            "object_position": null,
            "order": null,
            "overflow": null,
            "overflow_x": null,
            "overflow_y": null,
            "padding": null,
            "right": null,
            "top": null,
            "visibility": null,
            "width": null
          }
        },
        "f062952503614d8fbae6da2529fcf76a": {
          "model_module": "@jupyter-widgets/controls",
          "model_name": "ProgressStyleModel",
          "model_module_version": "1.5.0",
          "state": {
            "_model_module": "@jupyter-widgets/controls",
            "_model_module_version": "1.5.0",
            "_model_name": "ProgressStyleModel",
            "_view_count": null,
            "_view_module": "@jupyter-widgets/base",
            "_view_module_version": "1.2.0",
            "_view_name": "StyleView",
            "bar_color": null,
            "description_width": ""
          }
        },
        "fc5dc59a9948412db9468ca77d5eadca": {
          "model_module": "@jupyter-widgets/base",
          "model_name": "LayoutModel",
          "model_module_version": "1.2.0",
          "state": {
            "_model_module": "@jupyter-widgets/base",
            "_model_module_version": "1.2.0",
            "_model_name": "LayoutModel",
            "_view_count": null,
            "_view_module": "@jupyter-widgets/base",
            "_view_module_version": "1.2.0",
            "_view_name": "LayoutView",
            "align_content": null,
            "align_items": null,
            "align_self": null,
            "border": null,
            "bottom": null,
            "display": null,
            "flex": null,
            "flex_flow": null,
            "grid_area": null,
            "grid_auto_columns": null,
            "grid_auto_flow": null,
            "grid_auto_rows": null,
            "grid_column": null,
            "grid_gap": null,
            "grid_row": null,
            "grid_template_areas": null,
            "grid_template_columns": null,
            "grid_template_rows": null,
            "height": null,
            "justify_content": null,
            "justify_items": null,
            "left": null,
            "margin": null,
            "max_height": null,
            "max_width": null,
            "min_height": null,
            "min_width": null,
            "object_fit": null,
            "object_position": null,
            "order": null,
            "overflow": null,
            "overflow_x": null,
            "overflow_y": null,
            "padding": null,
            "right": null,
            "top": null,
            "visibility": null,
            "width": null
          }
        },
        "7a2eeb5433e84153a97259bdf3504d10": {
          "model_module": "@jupyter-widgets/controls",
          "model_name": "DescriptionStyleModel",
          "model_module_version": "1.5.0",
          "state": {
            "_model_module": "@jupyter-widgets/controls",
            "_model_module_version": "1.5.0",
            "_model_name": "DescriptionStyleModel",
            "_view_count": null,
            "_view_module": "@jupyter-widgets/base",
            "_view_module_version": "1.2.0",
            "_view_name": "StyleView",
            "description_width": ""
          }
        },
        "338cc627d79748cdbfea1f9b8ed2d935": {
          "model_module": "@jupyter-widgets/controls",
          "model_name": "HBoxModel",
          "model_module_version": "1.5.0",
          "state": {
            "_dom_classes": [],
            "_model_module": "@jupyter-widgets/controls",
            "_model_module_version": "1.5.0",
            "_model_name": "HBoxModel",
            "_view_count": null,
            "_view_module": "@jupyter-widgets/controls",
            "_view_module_version": "1.5.0",
            "_view_name": "HBoxView",
            "box_style": "",
            "children": [
              "IPY_MODEL_a2a66b90299445b9aa63cfa27a629061",
              "IPY_MODEL_69f9b227d53e4bf986f428b4d6c3b5f6",
              "IPY_MODEL_e3a8ef304df94aee801fc13f1439e5d2"
            ],
            "layout": "IPY_MODEL_59aa73e3611d41829cee082561443b58"
          }
        },
        "a2a66b90299445b9aa63cfa27a629061": {
          "model_module": "@jupyter-widgets/controls",
          "model_name": "HTMLModel",
          "model_module_version": "1.5.0",
          "state": {
            "_dom_classes": [],
            "_model_module": "@jupyter-widgets/controls",
            "_model_module_version": "1.5.0",
            "_model_name": "HTMLModel",
            "_view_count": null,
            "_view_module": "@jupyter-widgets/controls",
            "_view_module_version": "1.5.0",
            "_view_name": "HTMLView",
            "description": "",
            "description_tooltip": null,
            "layout": "IPY_MODEL_9f79a5b41a44477ab6fb4b287f4152d0",
            "placeholder": "​",
            "style": "IPY_MODEL_2d2d0c5b03464ea089c98d0919bcdd3e",
            "value": "Downloading: 100%"
          }
        },
        "69f9b227d53e4bf986f428b4d6c3b5f6": {
          "model_module": "@jupyter-widgets/controls",
          "model_name": "FloatProgressModel",
          "model_module_version": "1.5.0",
          "state": {
            "_dom_classes": [],
            "_model_module": "@jupyter-widgets/controls",
            "_model_module_version": "1.5.0",
            "_model_name": "FloatProgressModel",
            "_view_count": null,
            "_view_module": "@jupyter-widgets/controls",
            "_view_module_version": "1.5.0",
            "_view_name": "ProgressView",
            "bar_style": "success",
            "description": "",
            "description_tooltip": null,
            "layout": "IPY_MODEL_1c08b404df4349d4bde2cffcfc7ae524",
            "max": 28,
            "min": 0,
            "orientation": "horizontal",
            "style": "IPY_MODEL_04a6eb00853d4d24af0ea400b27e1e0f",
            "value": 28
          }
        },
        "e3a8ef304df94aee801fc13f1439e5d2": {
          "model_module": "@jupyter-widgets/controls",
          "model_name": "HTMLModel",
          "model_module_version": "1.5.0",
          "state": {
            "_dom_classes": [],
            "_model_module": "@jupyter-widgets/controls",
            "_model_module_version": "1.5.0",
            "_model_name": "HTMLModel",
            "_view_count": null,
            "_view_module": "@jupyter-widgets/controls",
            "_view_module_version": "1.5.0",
            "_view_name": "HTMLView",
            "description": "",
            "description_tooltip": null,
            "layout": "IPY_MODEL_3089d14fb2964b898bfd4c1b3754ce47",
            "placeholder": "​",
            "style": "IPY_MODEL_ab00e995ff29486cbb82c13bc61da1a1",
            "value": " 28.0/28.0 [00:00&lt;00:00, 693B/s]"
          }
        },
        "59aa73e3611d41829cee082561443b58": {
          "model_module": "@jupyter-widgets/base",
          "model_name": "LayoutModel",
          "model_module_version": "1.2.0",
          "state": {
            "_model_module": "@jupyter-widgets/base",
            "_model_module_version": "1.2.0",
            "_model_name": "LayoutModel",
            "_view_count": null,
            "_view_module": "@jupyter-widgets/base",
            "_view_module_version": "1.2.0",
            "_view_name": "LayoutView",
            "align_content": null,
            "align_items": null,
            "align_self": null,
            "border": null,
            "bottom": null,
            "display": null,
            "flex": null,
            "flex_flow": null,
            "grid_area": null,
            "grid_auto_columns": null,
            "grid_auto_flow": null,
            "grid_auto_rows": null,
            "grid_column": null,
            "grid_gap": null,
            "grid_row": null,
            "grid_template_areas": null,
            "grid_template_columns": null,
            "grid_template_rows": null,
            "height": null,
            "justify_content": null,
            "justify_items": null,
            "left": null,
            "margin": null,
            "max_height": null,
            "max_width": null,
            "min_height": null,
            "min_width": null,
            "object_fit": null,
            "object_position": null,
            "order": null,
            "overflow": null,
            "overflow_x": null,
            "overflow_y": null,
            "padding": null,
            "right": null,
            "top": null,
            "visibility": null,
            "width": null
          }
        },
        "9f79a5b41a44477ab6fb4b287f4152d0": {
          "model_module": "@jupyter-widgets/base",
          "model_name": "LayoutModel",
          "model_module_version": "1.2.0",
          "state": {
            "_model_module": "@jupyter-widgets/base",
            "_model_module_version": "1.2.0",
            "_model_name": "LayoutModel",
            "_view_count": null,
            "_view_module": "@jupyter-widgets/base",
            "_view_module_version": "1.2.0",
            "_view_name": "LayoutView",
            "align_content": null,
            "align_items": null,
            "align_self": null,
            "border": null,
            "bottom": null,
            "display": null,
            "flex": null,
            "flex_flow": null,
            "grid_area": null,
            "grid_auto_columns": null,
            "grid_auto_flow": null,
            "grid_auto_rows": null,
            "grid_column": null,
            "grid_gap": null,
            "grid_row": null,
            "grid_template_areas": null,
            "grid_template_columns": null,
            "grid_template_rows": null,
            "height": null,
            "justify_content": null,
            "justify_items": null,
            "left": null,
            "margin": null,
            "max_height": null,
            "max_width": null,
            "min_height": null,
            "min_width": null,
            "object_fit": null,
            "object_position": null,
            "order": null,
            "overflow": null,
            "overflow_x": null,
            "overflow_y": null,
            "padding": null,
            "right": null,
            "top": null,
            "visibility": null,
            "width": null
          }
        },
        "2d2d0c5b03464ea089c98d0919bcdd3e": {
          "model_module": "@jupyter-widgets/controls",
          "model_name": "DescriptionStyleModel",
          "model_module_version": "1.5.0",
          "state": {
            "_model_module": "@jupyter-widgets/controls",
            "_model_module_version": "1.5.0",
            "_model_name": "DescriptionStyleModel",
            "_view_count": null,
            "_view_module": "@jupyter-widgets/base",
            "_view_module_version": "1.2.0",
            "_view_name": "StyleView",
            "description_width": ""
          }
        },
        "1c08b404df4349d4bde2cffcfc7ae524": {
          "model_module": "@jupyter-widgets/base",
          "model_name": "LayoutModel",
          "model_module_version": "1.2.0",
          "state": {
            "_model_module": "@jupyter-widgets/base",
            "_model_module_version": "1.2.0",
            "_model_name": "LayoutModel",
            "_view_count": null,
            "_view_module": "@jupyter-widgets/base",
            "_view_module_version": "1.2.0",
            "_view_name": "LayoutView",
            "align_content": null,
            "align_items": null,
            "align_self": null,
            "border": null,
            "bottom": null,
            "display": null,
            "flex": null,
            "flex_flow": null,
            "grid_area": null,
            "grid_auto_columns": null,
            "grid_auto_flow": null,
            "grid_auto_rows": null,
            "grid_column": null,
            "grid_gap": null,
            "grid_row": null,
            "grid_template_areas": null,
            "grid_template_columns": null,
            "grid_template_rows": null,
            "height": null,
            "justify_content": null,
            "justify_items": null,
            "left": null,
            "margin": null,
            "max_height": null,
            "max_width": null,
            "min_height": null,
            "min_width": null,
            "object_fit": null,
            "object_position": null,
            "order": null,
            "overflow": null,
            "overflow_x": null,
            "overflow_y": null,
            "padding": null,
            "right": null,
            "top": null,
            "visibility": null,
            "width": null
          }
        },
        "04a6eb00853d4d24af0ea400b27e1e0f": {
          "model_module": "@jupyter-widgets/controls",
          "model_name": "ProgressStyleModel",
          "model_module_version": "1.5.0",
          "state": {
            "_model_module": "@jupyter-widgets/controls",
            "_model_module_version": "1.5.0",
            "_model_name": "ProgressStyleModel",
            "_view_count": null,
            "_view_module": "@jupyter-widgets/base",
            "_view_module_version": "1.2.0",
            "_view_name": "StyleView",
            "bar_color": null,
            "description_width": ""
          }
        },
        "3089d14fb2964b898bfd4c1b3754ce47": {
          "model_module": "@jupyter-widgets/base",
          "model_name": "LayoutModel",
          "model_module_version": "1.2.0",
          "state": {
            "_model_module": "@jupyter-widgets/base",
            "_model_module_version": "1.2.0",
            "_model_name": "LayoutModel",
            "_view_count": null,
            "_view_module": "@jupyter-widgets/base",
            "_view_module_version": "1.2.0",
            "_view_name": "LayoutView",
            "align_content": null,
            "align_items": null,
            "align_self": null,
            "border": null,
            "bottom": null,
            "display": null,
            "flex": null,
            "flex_flow": null,
            "grid_area": null,
            "grid_auto_columns": null,
            "grid_auto_flow": null,
            "grid_auto_rows": null,
            "grid_column": null,
            "grid_gap": null,
            "grid_row": null,
            "grid_template_areas": null,
            "grid_template_columns": null,
            "grid_template_rows": null,
            "height": null,
            "justify_content": null,
            "justify_items": null,
            "left": null,
            "margin": null,
            "max_height": null,
            "max_width": null,
            "min_height": null,
            "min_width": null,
            "object_fit": null,
            "object_position": null,
            "order": null,
            "overflow": null,
            "overflow_x": null,
            "overflow_y": null,
            "padding": null,
            "right": null,
            "top": null,
            "visibility": null,
            "width": null
          }
        },
        "ab00e995ff29486cbb82c13bc61da1a1": {
          "model_module": "@jupyter-widgets/controls",
          "model_name": "DescriptionStyleModel",
          "model_module_version": "1.5.0",
          "state": {
            "_model_module": "@jupyter-widgets/controls",
            "_model_module_version": "1.5.0",
            "_model_name": "DescriptionStyleModel",
            "_view_count": null,
            "_view_module": "@jupyter-widgets/base",
            "_view_module_version": "1.2.0",
            "_view_name": "StyleView",
            "description_width": ""
          }
        },
        "b08c9fedb15d4cb0905517a65515eb90": {
          "model_module": "@jupyter-widgets/controls",
          "model_name": "HBoxModel",
          "model_module_version": "1.5.0",
          "state": {
            "_dom_classes": [],
            "_model_module": "@jupyter-widgets/controls",
            "_model_module_version": "1.5.0",
            "_model_name": "HBoxModel",
            "_view_count": null,
            "_view_module": "@jupyter-widgets/controls",
            "_view_module_version": "1.5.0",
            "_view_name": "HBoxView",
            "box_style": "",
            "children": [
              "IPY_MODEL_3836794db5d64fa0b237b121565c5efa",
              "IPY_MODEL_dbf39af655974d84bdfc7dd097714738",
              "IPY_MODEL_de23b53382ad4a3ca946fc093b5f615f"
            ],
            "layout": "IPY_MODEL_cae84a0256cd41c28141e9e446ad9732"
          }
        },
        "3836794db5d64fa0b237b121565c5efa": {
          "model_module": "@jupyter-widgets/controls",
          "model_name": "HTMLModel",
          "model_module_version": "1.5.0",
          "state": {
            "_dom_classes": [],
            "_model_module": "@jupyter-widgets/controls",
            "_model_module_version": "1.5.0",
            "_model_name": "HTMLModel",
            "_view_count": null,
            "_view_module": "@jupyter-widgets/controls",
            "_view_module_version": "1.5.0",
            "_view_name": "HTMLView",
            "description": "",
            "description_tooltip": null,
            "layout": "IPY_MODEL_ccf25a4abc4246bfb90947e1f0065327",
            "placeholder": "​",
            "style": "IPY_MODEL_00eae291521c4b74ade5cc35fb9da9fc",
            "value": "Downloading: 100%"
          }
        },
        "dbf39af655974d84bdfc7dd097714738": {
          "model_module": "@jupyter-widgets/controls",
          "model_name": "FloatProgressModel",
          "model_module_version": "1.5.0",
          "state": {
            "_dom_classes": [],
            "_model_module": "@jupyter-widgets/controls",
            "_model_module_version": "1.5.0",
            "_model_name": "FloatProgressModel",
            "_view_count": null,
            "_view_module": "@jupyter-widgets/controls",
            "_view_module_version": "1.5.0",
            "_view_name": "ProgressView",
            "bar_style": "success",
            "description": "",
            "description_tooltip": null,
            "layout": "IPY_MODEL_43253f0d684340e999aa441a371346f4",
            "max": 570,
            "min": 0,
            "orientation": "horizontal",
            "style": "IPY_MODEL_485a93f6181c4a4abab39a00f19602f0",
            "value": 570
          }
        },
        "de23b53382ad4a3ca946fc093b5f615f": {
          "model_module": "@jupyter-widgets/controls",
          "model_name": "HTMLModel",
          "model_module_version": "1.5.0",
          "state": {
            "_dom_classes": [],
            "_model_module": "@jupyter-widgets/controls",
            "_model_module_version": "1.5.0",
            "_model_name": "HTMLModel",
            "_view_count": null,
            "_view_module": "@jupyter-widgets/controls",
            "_view_module_version": "1.5.0",
            "_view_name": "HTMLView",
            "description": "",
            "description_tooltip": null,
            "layout": "IPY_MODEL_e16b83a638c34d7f8d81f762c7f91943",
            "placeholder": "​",
            "style": "IPY_MODEL_4b53b305cd0143918710aedf1aed142c",
            "value": " 570/570 [00:00&lt;00:00, 17.1kB/s]"
          }
        },
        "cae84a0256cd41c28141e9e446ad9732": {
          "model_module": "@jupyter-widgets/base",
          "model_name": "LayoutModel",
          "model_module_version": "1.2.0",
          "state": {
            "_model_module": "@jupyter-widgets/base",
            "_model_module_version": "1.2.0",
            "_model_name": "LayoutModel",
            "_view_count": null,
            "_view_module": "@jupyter-widgets/base",
            "_view_module_version": "1.2.0",
            "_view_name": "LayoutView",
            "align_content": null,
            "align_items": null,
            "align_self": null,
            "border": null,
            "bottom": null,
            "display": null,
            "flex": null,
            "flex_flow": null,
            "grid_area": null,
            "grid_auto_columns": null,
            "grid_auto_flow": null,
            "grid_auto_rows": null,
            "grid_column": null,
            "grid_gap": null,
            "grid_row": null,
            "grid_template_areas": null,
            "grid_template_columns": null,
            "grid_template_rows": null,
            "height": null,
            "justify_content": null,
            "justify_items": null,
            "left": null,
            "margin": null,
            "max_height": null,
            "max_width": null,
            "min_height": null,
            "min_width": null,
            "object_fit": null,
            "object_position": null,
            "order": null,
            "overflow": null,
            "overflow_x": null,
            "overflow_y": null,
            "padding": null,
            "right": null,
            "top": null,
            "visibility": null,
            "width": null
          }
        },
        "ccf25a4abc4246bfb90947e1f0065327": {
          "model_module": "@jupyter-widgets/base",
          "model_name": "LayoutModel",
          "model_module_version": "1.2.0",
          "state": {
            "_model_module": "@jupyter-widgets/base",
            "_model_module_version": "1.2.0",
            "_model_name": "LayoutModel",
            "_view_count": null,
            "_view_module": "@jupyter-widgets/base",
            "_view_module_version": "1.2.0",
            "_view_name": "LayoutView",
            "align_content": null,
            "align_items": null,
            "align_self": null,
            "border": null,
            "bottom": null,
            "display": null,
            "flex": null,
            "flex_flow": null,
            "grid_area": null,
            "grid_auto_columns": null,
            "grid_auto_flow": null,
            "grid_auto_rows": null,
            "grid_column": null,
            "grid_gap": null,
            "grid_row": null,
            "grid_template_areas": null,
            "grid_template_columns": null,
            "grid_template_rows": null,
            "height": null,
            "justify_content": null,
            "justify_items": null,
            "left": null,
            "margin": null,
            "max_height": null,
            "max_width": null,
            "min_height": null,
            "min_width": null,
            "object_fit": null,
            "object_position": null,
            "order": null,
            "overflow": null,
            "overflow_x": null,
            "overflow_y": null,
            "padding": null,
            "right": null,
            "top": null,
            "visibility": null,
            "width": null
          }
        },
        "00eae291521c4b74ade5cc35fb9da9fc": {
          "model_module": "@jupyter-widgets/controls",
          "model_name": "DescriptionStyleModel",
          "model_module_version": "1.5.0",
          "state": {
            "_model_module": "@jupyter-widgets/controls",
            "_model_module_version": "1.5.0",
            "_model_name": "DescriptionStyleModel",
            "_view_count": null,
            "_view_module": "@jupyter-widgets/base",
            "_view_module_version": "1.2.0",
            "_view_name": "StyleView",
            "description_width": ""
          }
        },
        "43253f0d684340e999aa441a371346f4": {
          "model_module": "@jupyter-widgets/base",
          "model_name": "LayoutModel",
          "model_module_version": "1.2.0",
          "state": {
            "_model_module": "@jupyter-widgets/base",
            "_model_module_version": "1.2.0",
            "_model_name": "LayoutModel",
            "_view_count": null,
            "_view_module": "@jupyter-widgets/base",
            "_view_module_version": "1.2.0",
            "_view_name": "LayoutView",
            "align_content": null,
            "align_items": null,
            "align_self": null,
            "border": null,
            "bottom": null,
            "display": null,
            "flex": null,
            "flex_flow": null,
            "grid_area": null,
            "grid_auto_columns": null,
            "grid_auto_flow": null,
            "grid_auto_rows": null,
            "grid_column": null,
            "grid_gap": null,
            "grid_row": null,
            "grid_template_areas": null,
            "grid_template_columns": null,
            "grid_template_rows": null,
            "height": null,
            "justify_content": null,
            "justify_items": null,
            "left": null,
            "margin": null,
            "max_height": null,
            "max_width": null,
            "min_height": null,
            "min_width": null,
            "object_fit": null,
            "object_position": null,
            "order": null,
            "overflow": null,
            "overflow_x": null,
            "overflow_y": null,
            "padding": null,
            "right": null,
            "top": null,
            "visibility": null,
            "width": null
          }
        },
        "485a93f6181c4a4abab39a00f19602f0": {
          "model_module": "@jupyter-widgets/controls",
          "model_name": "ProgressStyleModel",
          "model_module_version": "1.5.0",
          "state": {
            "_model_module": "@jupyter-widgets/controls",
            "_model_module_version": "1.5.0",
            "_model_name": "ProgressStyleModel",
            "_view_count": null,
            "_view_module": "@jupyter-widgets/base",
            "_view_module_version": "1.2.0",
            "_view_name": "StyleView",
            "bar_color": null,
            "description_width": ""
          }
        },
        "e16b83a638c34d7f8d81f762c7f91943": {
          "model_module": "@jupyter-widgets/base",
          "model_name": "LayoutModel",
          "model_module_version": "1.2.0",
          "state": {
            "_model_module": "@jupyter-widgets/base",
            "_model_module_version": "1.2.0",
            "_model_name": "LayoutModel",
            "_view_count": null,
            "_view_module": "@jupyter-widgets/base",
            "_view_module_version": "1.2.0",
            "_view_name": "LayoutView",
            "align_content": null,
            "align_items": null,
            "align_self": null,
            "border": null,
            "bottom": null,
            "display": null,
            "flex": null,
            "flex_flow": null,
            "grid_area": null,
            "grid_auto_columns": null,
            "grid_auto_flow": null,
            "grid_auto_rows": null,
            "grid_column": null,
            "grid_gap": null,
            "grid_row": null,
            "grid_template_areas": null,
            "grid_template_columns": null,
            "grid_template_rows": null,
            "height": null,
            "justify_content": null,
            "justify_items": null,
            "left": null,
            "margin": null,
            "max_height": null,
            "max_width": null,
            "min_height": null,
            "min_width": null,
            "object_fit": null,
            "object_position": null,
            "order": null,
            "overflow": null,
            "overflow_x": null,
            "overflow_y": null,
            "padding": null,
            "right": null,
            "top": null,
            "visibility": null,
            "width": null
          }
        },
        "4b53b305cd0143918710aedf1aed142c": {
          "model_module": "@jupyter-widgets/controls",
          "model_name": "DescriptionStyleModel",
          "model_module_version": "1.5.0",
          "state": {
            "_model_module": "@jupyter-widgets/controls",
            "_model_module_version": "1.5.0",
            "_model_name": "DescriptionStyleModel",
            "_view_count": null,
            "_view_module": "@jupyter-widgets/base",
            "_view_module_version": "1.2.0",
            "_view_name": "StyleView",
            "description_width": ""
          }
        }
      }
    }
  },
  "cells": [
    {
      "cell_type": "code",
      "execution_count": null,
      "metadata": {
        "id": "3bgb1DYn2_yt"
      },
      "outputs": [],
      "source": [
        "!pip install tokenizers\n",
        "!pip install transformers"
      ]
    },
    {
      "cell_type": "markdown",
      "source": [
        "Importing the modules we will be needing for the Project."
      ],
      "metadata": {
        "id": "8cG3cUEgXw8n"
      }
    },
    {
      "cell_type": "code",
      "source": [
        "import numpy as np\n",
        "import pandas as pd\n",
        "from tokenizers import BertWordPieceTokenizer\n",
        "from transformers import BertTokenizer\n",
        "from tensorflow.keras.preprocessing.sequence import pad_sequences\n",
        "from sklearn.decomposition import PCA\n",
        "from sklearn.manifold import TSNE\n",
        "import matplotlib.pyplot as plt\n"
      ],
      "metadata": {
        "id": "trn4lX-I3Mmk"
      },
      "execution_count": 2,
      "outputs": []
    },
    {
      "cell_type": "markdown",
      "source": [
        "Importing the pretrained Bert-tokenizer from huggin face."
      ],
      "metadata": {
        "id": "Gtby9FiX9c1W"
      }
    },
    {
      "cell_type": "code",
      "source": [
        "tokenizer = BertTokenizer.from_pretrained('bert-base-uncased')"
      ],
      "metadata": {
        "colab": {
          "base_uri": "https://localhost:8080/",
          "height": 113,
          "referenced_widgets": [
            "360176d0e85d4c519c4f5c9a070c4a1c",
            "c1522a2868ae4f8a9e3ea678a9efc05b",
            "d99c639ec6ad4dbe82a2df89a0b26784",
            "55102d24a8284ab5874ca98533a69219",
            "438b60252a0045b2a61a67ec96e22664",
            "cd1460c091094188a626cbe89488f56e",
            "916e66723e8e4ed2b1e0d513c6ff7a64",
            "f98e888ad1b0483480f33324267e511e",
            "f062952503614d8fbae6da2529fcf76a",
            "fc5dc59a9948412db9468ca77d5eadca",
            "7a2eeb5433e84153a97259bdf3504d10",
            "338cc627d79748cdbfea1f9b8ed2d935",
            "a2a66b90299445b9aa63cfa27a629061",
            "69f9b227d53e4bf986f428b4d6c3b5f6",
            "e3a8ef304df94aee801fc13f1439e5d2",
            "59aa73e3611d41829cee082561443b58",
            "9f79a5b41a44477ab6fb4b287f4152d0",
            "2d2d0c5b03464ea089c98d0919bcdd3e",
            "1c08b404df4349d4bde2cffcfc7ae524",
            "04a6eb00853d4d24af0ea400b27e1e0f",
            "3089d14fb2964b898bfd4c1b3754ce47",
            "ab00e995ff29486cbb82c13bc61da1a1",
            "b08c9fedb15d4cb0905517a65515eb90",
            "3836794db5d64fa0b237b121565c5efa",
            "dbf39af655974d84bdfc7dd097714738",
            "de23b53382ad4a3ca946fc093b5f615f",
            "cae84a0256cd41c28141e9e446ad9732",
            "ccf25a4abc4246bfb90947e1f0065327",
            "00eae291521c4b74ade5cc35fb9da9fc",
            "43253f0d684340e999aa441a371346f4",
            "485a93f6181c4a4abab39a00f19602f0",
            "e16b83a638c34d7f8d81f762c7f91943",
            "4b53b305cd0143918710aedf1aed142c"
          ]
        },
        "id": "UmQuUK5NRsWX",
        "outputId": "f6377d1e-2140-43ba-f5a3-0bd965dbef48"
      },
      "execution_count": 3,
      "outputs": [
        {
          "output_type": "display_data",
          "data": {
            "text/plain": [
              "Downloading:   0%|          | 0.00/226k [00:00<?, ?B/s]"
            ],
            "application/vnd.jupyter.widget-view+json": {
              "version_major": 2,
              "version_minor": 0,
              "model_id": "360176d0e85d4c519c4f5c9a070c4a1c"
            }
          },
          "metadata": {}
        },
        {
          "output_type": "display_data",
          "data": {
            "text/plain": [
              "Downloading:   0%|          | 0.00/28.0 [00:00<?, ?B/s]"
            ],
            "application/vnd.jupyter.widget-view+json": {
              "version_major": 2,
              "version_minor": 0,
              "model_id": "338cc627d79748cdbfea1f9b8ed2d935"
            }
          },
          "metadata": {}
        },
        {
          "output_type": "display_data",
          "data": {
            "text/plain": [
              "Downloading:   0%|          | 0.00/570 [00:00<?, ?B/s]"
            ],
            "application/vnd.jupyter.widget-view+json": {
              "version_major": 2,
              "version_minor": 0,
              "model_id": "b08c9fedb15d4cb0905517a65515eb90"
            }
          },
          "metadata": {}
        }
      ]
    },
    {
      "cell_type": "markdown",
      "source": [
        "Creating the sample of answers for testing"
      ],
      "metadata": {
        "id": "HflvWsID93md"
      }
    },
    {
      "cell_type": "code",
      "source": [
        "answers = [i for i in range(14)]\n",
        "\n",
        "answers[0] = \"Within the field of machine learning, there are two main types of tasks: supervised, and unsupervised. The main difference between the two types is that supervised learning is done using a ground truth, or in other words, we have prior knowledge of what the output values for our samples should be. Therefore, the goal of supervised learning is to learn a function that, given a sample of data and desired outputs, best approximates the relationship between input and output observable in the data. Unsupervised learning, on the other hand, does not have labeled outputs, so its goal is to infer the natural structure present within a set of data points.\"\n",
        "answers[1] = \"The main distinction between the two approaches is the use of labeled datasets. To put it simply, supervised learning uses labeled input and output data, while an unsupervised learning algorithm does not.In supervised learning, the algorithm “learns” from the training dataset by iteratively making predictions on the data and adjusting for the correct answer.Unsupervised learning models, in contrast, work on their own to discover the inherent structure of unlabeled data.\"\n",
        "answers[2] = \"In a supervised learning model, the algorithm learns on a labeled dataset, providing an answer key that the algorithm can use to evaluate its accuracy on training data. An unsupervised model, in contrast, provides unlabeled data that the algorithm tries to make sense of by extracting features and patterns on its own.\"\n",
        "\n",
        "answers[3] = \"While psychopaths are classified as people with little or no conscience, sociopaths do have a limited, albeit weak, ability to feel empathy and remorse. Psychopaths can and do follow social conventions when it suits their needs. Sociopaths are more likely to fly off the handle and react violently whenever they're confronted by the consequences of their actions. \"\n",
        "answers[4] = \"A key difference between a psychopath and a sociopath is whether he has a conscience, the little voice inside that lets us know when we’re doing something wrong, says L. Michael Tompkins, EdD. He's a psychologist at the Sacramento County Mental Health Treatment Center.A psychopath doesn’t have a conscience. If he lies to you so he can steal your money, he won’t feel any moral qualms, though he may pretend to. He may observe others and then act the way they do so he’s not “found out,” Tompkins says.A sociopath typically has a conscience, but it’s weak. They may know that taking your money is wrong, and they might feel some guilt or remorse, but that won’t stop their behavior.Both lack empathy, the ability to stand in someone else’s shoes and understand how they feel. But a psychopath has less regard for others, says Aaron Kipnis, PhD, author of The Midas Complex. Someone with this personality type sees others as objects he can use for his own benefit.\"\n",
        "answers[5] = \"Psychopaths, in general, have a hard time forming real emotional attachments with others. Instead, they form artificial, shallow relationships designed to be manipulated in a way that most benefits the psychopath. People are seen as pawns to be used to forward the psychopath’s goals. Psychopaths rarely feel guilt regarding any of their behaviors, no matter how much they hurt others.Sociopaths, in general, tend to be more impulsive and erratic in their behavior than their psychopath counterparts. While also having difficulties in forming attachments to others, some sociopaths may be able to form an attachment to a like-minded group or person. Unlike psychopaths, most sociopaths don’t hold down long-term jobs or present much of a normal family life to the outside world.\"\n",
        "\n",
        "answers[6] = \"Two major types of tests are used to diagnose infection with SARS-CoV-2: molecular tests – better known as PCR tests – and antigen tests. Each detects a different part of the virus, and how it works influences the test’s speed and relative accuracy.For PCR tests, the next step is amplification of genetic material so that even a small amount of coronavirus genes in the patient’s sample can be detected. This is done using a technique called a polymerase chain reaction.Antigens are substances that cause the body to produce an immune response – they trigger the generation of antibodies. These tests use lab-made antibodies to search for antigens from the SARS-CoV-2 virus.\"\n",
        "answers[7] = \"There are essentially two broad categories of testing.Antigen test (frequently referred to as a rapid test). This test detects protein fragments specific to the Coronavirus. It can be done in a clinic, doctor’s office, or hospital. Turnaround time for results is usually very quick and in some cases, results can be reported within 15 minutes. PCR testing is considered the “gold standard” in SARS-CoV-2 detection. This test actually detects RNA (or genetic material) that is specific to the virus and can detect the virus within days of infection, even those who have no symptoms. The test can be done in a clinic, hospital, or even in your car. Turnaround time is longer, generally in the 2-3 day range but results can be in as little as 24 hours. When demand is high, results can take a week or longer.\"\n",
        "answers[8] = \"PCR tests are currently the most commonly used type of test to detect whether a person has an active COVID-19 infection.  These tests look for genetic material from the SARS-CoV-2 virus that causes COVID-19.  Once a sample is collected by a health care professional, these tests can be done quickly (1-2 hours) at the place of testing or can be done in a large central lab (anywhere from a few hours to a few days).  These test are the gold standard and can be used to diagnose a COVID-19 infection without any additional confirmatory tests. They often require specialized equipment to run the test (ex. a thermocycler) and with the right set up can be used in a remote setting.Antigen tests, often referred to as “rapid tests” are also used to detect if a person is currently infected, but tend to perform better if a person has had symptoms for a few days. These tests are designed to detect pieces of the proteins that make up the virus.  Once a sample is collected by a health care provider, antigen tests can often be done quickly while you wait (a few minutes to about an hour or so), but occasionally they are sent to a central lab.  One thing to keep in mind is that for the current antigen tests on the market, an additional PCR test is required to confirm an antigen test result. Since antigen tests typically don’t require a lot of special equipment, they can be well suited to remote settings.\"\n",
        "\n",
        "answers[9] = \"RAM is volatile memory, which means that the information temporarily stored in the module is erased when you restart or shut down your computer. Because the information is stored electrically on transistors, when there is no electric current, the data disappears. Each time you request a file or information, it is retrieved either from the computer's storage disk or the internet. The data is stored in RAM, so each time you switch from one program or page to another, the information is instantly available. When the computer is shut down, the memory is cleared until the process begins again. Volatile memory can be changed, upgraded, or expanded easily by users. ROM stands for non-volatile memory in computers., which means the information is permanently stored on the chip. The memory does not depend on an electric current to save data, instead, data is written to individual cells using binary code. Non-volatile memory is used for parts of the computer that do not change, such as the initial boot-up portion of the software, or the firmware instructions that make your printer run. Turning off the computer does not have any effect on ROM. Non-volatile memory cannot be changed by users.\"\n",
        "answers[10] = \"RAM and ROM are both types of computer memory. RAM is used to store computer programs and data that CPU needs in real time. RAM data is volatile and is erased once computer is switched off. ROM have prerecorded data and it is used to boot computer. RAM data is static and remains in the computer even if computer is switched off.RAM data is volatile. Data is present till power supply is present while ROM data is permanent. Data remains even after power supply is not present. RAM data can be read, erased or modified while ROM data is readonly. Finally, RAM is used to store data that CPU needs for current instruction processing and ROM is used to store data that in needed to bootstrap the computer.\"\n",
        "answers[11] = \" The full form of RAM is Random Access Memory. The information stored in this type of memory is lost when the power supply to the PC or laptop is switched off. The information stored in RAM can be checked with the help of BIOS. It is generally known as the main memory, or temporary memory or cache memory or volatile memory of the computer system. he full form of ROM is a Read-Only Memory. It is a permanent type of memory. Its content are not lost when the power supply is switched off. The computer manufacturer decides the information of ROM, and it is permanently stored at the time of manufacturing, which cannot be overwritten by the user.\"\n",
        "\n",
        "answers[12] = \"The main difference between supervised machine learning and unsupervised machine learning is the supervision it can get from humans. If data scientists supervise the model running it is then supervised while machine leanring that works on it's own is unsupervised\"\n",
        "answers[13] = \"The difference between supervised maching learning and unsupervised machine learning is how it is made. Supervised machine learning is made for supervising data while unsupervised is created for other uses the don't need tracking. In general both are different types of the same system\""
      ],
      "metadata": {
        "id": "EzKykGYiRv48"
      },
      "execution_count": 4,
      "outputs": []
    },
    {
      "cell_type": "markdown",
      "source": [
        "Translating the answers from text to vectors and padding the vectors to equal lengths using BERT."
      ],
      "metadata": {
        "id": "7Kmgii1a99KA"
      }
    },
    {
      "cell_type": "code",
      "source": [
        "bert_output = [tokenizer.encode(i) for i in answers]\n",
        "\n",
        "padded_bert = pad_sequences(bert_output, truncating = \"post\",padding = \"post\", dtype = \"int\")\n"
      ],
      "metadata": {
        "id": "BdiNR6VpRy3P"
      },
      "execution_count": 5,
      "outputs": []
    },
    {
      "cell_type": "markdown",
      "source": [
        "Principal Component Analysis to visualize the outcome in a 2D-space. The red dots are the correct answers, the blue are the completely incorrect answers and the green are the trick-correct answers."
      ],
      "metadata": {
        "id": "9TgEiX1A-KLB"
      }
    },
    {
      "cell_type": "code",
      "source": [
        "pca = PCA(n_components = 2)\n",
        "\n",
        "Bert_PCA = pca.fit_transform(padded_bert)"
      ],
      "metadata": {
        "id": "OFCfOP_9R15P"
      },
      "execution_count": 6,
      "outputs": []
    },
    {
      "cell_type": "code",
      "source": [
        "%matplotlib inline\n",
        "\n",
        "fig,ax = plt.subplots(figsize = (10,6))\n",
        "ax.plot(Bert_PCA[:3,0],Bert_PCA[:3,1], 'r.',lw = 1)\n",
        "ax.plot(Bert_PCA[3:,0],Bert_PCA[3:,1], 'b.',lw = 1)\n",
        "ax.plot(Bert_PCA[11:13,0],Bert_PCA[11:13,1], 'g.',lw = 1)\n",
        "ax.set_xlabel('PCA 1')\n",
        "ax.set_ylabel('PCA 2')\n",
        "ax.set_title('RAW Encoded data')\n",
        "\n",
        "plt.show()"
      ],
      "metadata": {
        "colab": {
          "base_uri": "https://localhost:8080/",
          "height": 404
        },
        "id": "Tq4vAKPpR4nv",
        "outputId": "38753859-6e1c-4e70-be1f-399c7adbd97f"
      },
      "execution_count": 7,
      "outputs": [
        {
          "output_type": "display_data",
          "data": {
            "text/plain": [
              "<Figure size 720x432 with 1 Axes>"
            ],
            "image/png": "[encoded data removed]"
          },
          "metadata": {
            "needs_background": "light"
          }
        }
      ]
    },
    {
      "cell_type": "markdown",
      "source": [
        "TSNE dimensionality reduction to visualize the same components as in PCA."
      ],
      "metadata": {
        "id": "JjoF4Z_X-qqP"
      }
    },
    {
      "cell_type": "code",
      "source": [
        "tsne = TSNE(n_components=2, random_state = 0)\n",
        "\n",
        "Bert_TSNE = tsne.fit_transform(padded_bert)"
      ],
      "metadata": {
        "id": "vTFlRVsPSGnD"
      },
      "execution_count": null,
      "outputs": []
    },
    {
      "cell_type": "code",
      "source": [
        "fig,ax = plt.subplots(figsize = (10,6))\n",
        "ax.plot(Bert_TSNE[:3,0],Bert_TSNE[:3,1], 'r.',lw = 1)\n",
        "ax.plot(Bert_TSNE[3:,0],Bert_TSNE[3:,1], 'b.',lw = 1)\n",
        "ax.plot(Bert_TSNE[11:13,0],Bert_TSNE[11:13,1], 'g.',lw = 1)\n",
        "ax.set_xlabel('TSNE 1')\n",
        "ax.set_ylabel('TSNE 2')\n",
        "ax.set_title('RAW Encoded data')\n",
        "\n",
        "plt.show()"
      ],
      "metadata": {
        "colab": {
          "base_uri": "https://localhost:8080/",
          "height": 404
        },
        "id": "ZvQPoHaZSGxA",
        "outputId": "5c0eda7b-38c6-4e1c-85d6-c5ba51c363ce"
      },
      "execution_count": 9,
      "outputs": [
        {
          "output_type": "display_data",
          "data": {
            "text/plain": [
              "<Figure size 720x432 with 1 Axes>"
            ],
            "image/png": "[encoded data removed]"
          },
          "metadata": {
            "needs_background": "light"
          }
        }
      ]
    },
    {
      "cell_type": "markdown",
      "source": [
        "Simple functions to find the distance of each vector from the center of the correct answers."
      ],
      "metadata": {
        "id": "TzgwIHSi-8hz"
      }
    },
    {
      "cell_type": "code",
      "source": [
        "def center(matrix):\n",
        "  center = np.zeros(len(matrix[0]))\n",
        "  for i in range(len(matrix[0])):\n",
        "    for array in matrix:\n",
        "      center[i] = center[i] + array[i]\n",
        "  return center/len(matrix[:,0])\n",
        "\n",
        "def dist(matrix,center):\n",
        "  distances = []\n",
        "  for array in matrix:\n",
        "    distances.append(np.linalg.norm(array - center))\n",
        "\n",
        "  return distances"
      ],
      "metadata": {
        "id": "UHM1MITbSTgc"
      },
      "execution_count": 10,
      "outputs": []
    },
    {
      "cell_type": "code",
      "source": [
        "correct = padded_bert[:3]\n",
        "\n",
        "distances = dist(padded_bert,center(correct))"
      ],
      "metadata": {
        "id": "L4Kr9bZYSc3c"
      },
      "execution_count": 11,
      "outputs": []
    },
    {
      "cell_type": "markdown",
      "source": [
        "Plotting the distances of all the answers from the center of the correct answers. The blue line indicates the furthest correct answer from the center and the green line indicates the closest incorrect answer."
      ],
      "metadata": {
        "id": "WfWERBCi_NHg"
      }
    },
    {
      "cell_type": "code",
      "source": [
        "fig,ax = plt.subplots(figsize = (10,6))\n",
        "ax.plot(np.arange(len(distances)),distances,'r.')\n",
        "ax.axhline(y=distances[0], color='b', linestyle='-')\n",
        "ax.axhline(y=distances[13], color='g', linestyle='-')\n",
        "ax.set_xlabel('Answer Index')\n",
        "ax.set_ylabel('Distance from vector center')\n",
        "\n",
        "plt.show()"
      ],
      "metadata": {
        "colab": {
          "base_uri": "https://localhost:8080/",
          "height": 388
        },
        "id": "BCMWQR0BSgqI",
        "outputId": "c7279795-9629-4f37-ff0e-3d296f1f6588"
      },
      "execution_count": 12,
      "outputs": [
        {
          "output_type": "display_data",
          "data": {
            "text/plain": [
              "<Figure size 720x432 with 1 Axes>"
            ],
            "image/png": "[encoded data removed]"
          },
          "metadata": {
            "needs_background": "light"
          }
        }
      ]
    }
  ]
}